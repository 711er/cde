{
 "cells": [
  {
   "cell_type": "code",
   "execution_count": null,
   "metadata": {
    "collapsed": true
   },
   "outputs": [],
   "source": [
    "import cde_utility"
   ]
  },
  {
   "cell_type": "code",
   "execution_count": null,
   "metadata": {
    "collapsed": true
   },
   "outputs": [],
   "source": [
    "print(twopi)\n",
    "print(square)"
   ]
  },
  {
   "cell_type": "code",
   "execution_count": null,
   "metadata": {
    "collapsed": true
   },
   "outputs": [],
   "source": [
    "lat = square\n",
    "# Define high-symmetry k-points\n",
    "Gamma = lat.reci_vec(0, 0, 0)\n",
    "X = lat.reci_vec(0.5, 0, 0)\n",
    "M = lat.reci_vec(0.5, 0.5, 0)\n",
    "\n",
    "# Generate a Gamma-X-M-Gamma k-vector list\n",
    "nk = 51\n",
    "kmesh = np.concatenate([kpath(Gamma, X, nk), kpath(X, M, nk),                       kpath(M, Gamma, nk, end_point=True)])\n",
    "k_index = np.arange(len(kmesh))\n",
    "# plot_grid(kmesh)\n",
    "\n",
    "# parameters\n",
    "a_o_d = 1.0/3.0\n",
    "kw = 0.0\n",
    "r0 = [0, 0, 0]\n",
    "N_R_z = 200\n",
    "N_R_xy = 200\n",
    "\n",
    "# Transverse mode(p_z dipole mode)\n",
    "beta_z = -np.real( [ Rsum_direct(fR3, N_R_z, r0, kvec, kw, lat) \\\n",
    "\tfor kvec in kmesh ] )\n",
    "w_T = np.sqrt( 1.0 - a_o_d**3*beta_z )\n",
    "\n",
    "# In-plane mode\n",
    "fR3yx = lambda Rvec: fnRij(Rvec, 3, 1, 0)\n",
    "fR3xx = lambda Rvec: fnRij(Rvec, 3, 0, 0)\n",
    "fR3yy = lambda Rvec: fnRij(Rvec, 3, 1, 1)\n",
    "\n",
    "# timeit.timeit(\n",
    "beta_11 = np.array( [ Rsum_direct(fR3xx, N_R_xy, r0, kvec, kw, lat) \\\n",
    "\tfor kvec in kmesh ] )\n",
    "# print('Time for calculating beta_11: {:.4f} (s)'.format)\n",
    "beta_11 = 3.0*beta_11 + beta_z\n",
    "\n",
    "beta_22 = np.array( [ Rsum_direct(fR3yy, N_R_xy, r0, kvec, kw, lat) \\\n",
    "\tfor kvec in kmesh ] )\n",
    "beta_22 = 3.0*beta_22 + beta_z\n",
    "\n",
    "beta_21 = np.array( [ Rsum_direct(fR3yx, N_R_xy, r0, kvec, kw, lat) \\\n",
    "\tfor kvec in kmesh ] )\n",
    "\n",
    "w_TI = 1.0 - a_o_d**3/2.0*\\\n",
    "( beta_11 + beta_22 + np.sqrt( (beta_11 - beta_22)**2 + 4.0*beta_21**2 ) )\n",
    "w_LI = 1.0 - a_o_d**3/2.0*\\\n",
    "( beta_11 + beta_22 - np.sqrt( (beta_11 - beta_22)**2 + 4.0*beta_21**2 ) )\n",
    "w_TI = np.sqrt(np.real(w_TI))\n",
    "w_LI = np.sqrt(np.real(w_LI))\n",
    "\n",
    "np.savetxt('band-sqaure-qsa-Nz-{}-Nxy-{}.txt'.format(N_R_z, N_R_xy),\n",
    "           np.c_[w_T, w_TI, w_LI],\n",
    "           fmt='%.6f', header='T \\t TI \\t LI',\n",
    "           comments='nk={:d}\\n'.format(nk))\n",
    "\n",
    "# Plot band structure\n",
    "\n",
    "marker_style = dict(linestyle='-', lw=3, marker='',markersize=5, \n",
    "\t\t\t\t\t#markerfacecolor='none', \\\n",
    "                    markerfacecoloralt='gray', markeredgewidth=1.5, \\\n",
    "                    clip_on=False)\n",
    "\n",
    "hi_sym_k = [0, nk-1, 2*nk-2, -1]\n",
    "hi_sym_k = k_index[hi_sym_k]\n",
    "k_labels = ['$\\Gamma$', '$X$', '$M$', '$\\Gamma$']\n",
    "\n",
    "plt.figure(figsize=(8,6))\n",
    "\n",
    "plt.plot(  k_index, w_T, 'o', color='orange', **marker_style, label='T mode'  )\n",
    "plt.plot( k_index, np.real(w_TI), 'ro', **marker_style, label='TI mode' )\n",
    "plt.plot( k_index, np.real(w_LI), 'bo', **marker_style, label='LI mode' )\n",
    "plt.xlim((k_index[0], k_index[-1]))\n",
    "axes = plt.gca()\n",
    "ymin, ymax = axes.get_ylim()\n",
    "plt.ylim((ymin, ymax))\n",
    "plt.xticks( hi_sym_k, k_labels, fontsize=22 )\n",
    "plt.vlines(hi_sym_k, ymin, ymax, lw=1, color='k')\n",
    "plt.ylabel(r'$\\omega/\\omega_0$')\n",
    "plt.title('Square Lattice Quasi-static Band Structure')\n",
    "plt.legend(loc='best', fontsize=20)\n",
    "plt.tight_layout()\n",
    "plt.savefig('band-qs-square.pdf')\n",
    "# plt.show()\n",
    "\n",
    "\n",
    "# ### Triangular Lattice\n",
    "\n",
    "# ## Dynamical Response\n",
    "\n",
    "# In[ ]:\n",
    "\n",
    "\n",
    "# def eps_drude(kw, wp, gamma):\n",
    "#     w_pl = 11.34\n",
    "#     eps_a, eps_b, gamma = 5.45, 6.18, 0.05"
   ]
  }
 ],
 "metadata": {
  "kernelspec": {
   "display_name": "Python 3",
   "language": "python",
   "name": "python3"
  },
  "toc": {
   "base_numbering": 1,
   "nav_menu": {},
   "number_sections": true,
   "sideBar": true,
   "skip_h1_title": false,
   "title_cell": "Table of Contents",
   "title_sidebar": "Contents",
   "toc_cell": false,
   "toc_position": {},
   "toc_section_display": true,
   "toc_window_display": false
  },
  "varInspector": {
   "cols": {
    "lenName": 16,
    "lenType": 16,
    "lenVar": 40
   },
   "kernels_config": {
    "python": {
     "delete_cmd_postfix": "",
     "delete_cmd_prefix": "del ",
     "library": "var_list.py",
     "varRefreshCmd": "print(var_dic_list())"
    },
    "r": {
     "delete_cmd_postfix": ") ",
     "delete_cmd_prefix": "rm(",
     "library": "var_list.r",
     "varRefreshCmd": "cat(var_dic_list()) "
    }
   },
   "types_to_exclude": [
    "module",
    "function",
    "builtin_function_or_method",
    "instance",
    "_Feature"
   ],
   "window_display": false
  }
 },
 "nbformat": 4,
 "nbformat_minor": 2
}
